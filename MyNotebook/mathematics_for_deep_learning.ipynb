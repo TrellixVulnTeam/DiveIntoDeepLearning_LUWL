{
 "cells": [
  {
   "cell_type": "markdown",
   "metadata": {},
   "source": [
    "# Geometry and Linear Algebraic Operations\n",
    "\n",
    "## 向量点积的意义\n",
    "\n",
    "向量 $\\vec{v}$ 与向量 $\\vec{w}$ 的点积从几何意义上来看，是向量 $\\vec{v}$ 在 向量 $\\vec{w}$ 上的投影 $a_0$ 与 向量 $\\vec{w}$ 的模长 $||\\vec{w}||$ 的乘积。\n",
    "\n",
    "![](../pic/mathematics_for_deep_learning_001.png)"
   ]
  },
  {
   "cell_type": "markdown",
   "metadata": {},
   "source": [
    "推导方法（三角余弦定理）：\n",
    "\n",
    "设：\n",
    "\n",
    "$||\\vec{v}-\\vec{w}|| = C$\n",
    "\n",
    "则根据三角余弦定理可得：\n",
    "\n",
    "$C^2 = ||\\vec{v}||^2 + ||\\vec{w}||^2 - 2||\\vec{v}||\\cdot||\\vec{w}||\\cos{\\theta}$\n",
    "\n",
    "同时，因为：\n",
    "\n",
    "$C^2 = (\\vec{v}-\\vec{w})^2 = ||\\vec{v}||^2 + ||\\vec{w}||^2 - 2\\vec{v}\\cdot\\vec{w}$\n",
    "\n",
    "所以：\n",
    "\n",
    "$\\vec{v}\\cdot\\vec{w} = ||\\vec{v}||\\cdot||\\vec{w}||\\cos{\\theta}$\n",
    "\n",
    "又因为：\n",
    "\n",
    "$\\cos{\\theta} = \\displaystyle\\frac{a_0}{||\\vec{v}||}$\n",
    "\n",
    "所以：\n",
    "\n",
    "$\n",
    "\\begin{align}\n",
    "    \\vec{v}\\cdot\\vec{w} &= ||\\vec{v}||\\cdot||\\vec{w}||\\cdot\\displaystyle\\frac{a_0}{||\\vec{v}||} \\\\\n",
    "                  &= ||\\vec{w}|| \\cdot a_0\n",
    "\\end{align}\n",
    "$"
   ]
  },
  {
   "cell_type": "markdown",
   "metadata": {},
   "source": [
    "## Hyperplanes"
   ]
  },
  {
   "cell_type": "code",
   "execution_count": 1,
   "metadata": {
    "ExecuteTime": {
     "end_time": "2019-12-09T12:14:02.717507Z",
     "start_time": "2019-12-09T12:14:02.707834Z"
    }
   },
   "outputs": [],
   "source": [
    "from mxnet import gluon, np, npx"
   ]
  },
  {
   "cell_type": "code",
   "execution_count": 2,
   "metadata": {
    "ExecuteTime": {
     "end_time": "2019-12-09T12:14:14.060425Z",
     "start_time": "2019-12-09T12:14:14.043485Z"
    }
   },
   "outputs": [],
   "source": [
    "npx.set_np()"
   ]
  },
  {
   "cell_type": "code",
   "execution_count": 3,
   "metadata": {
    "ExecuteTime": {
     "end_time": "2019-12-09T12:14:42.434202Z",
     "start_time": "2019-12-09T12:14:24.856095Z"
    }
   },
   "outputs": [],
   "source": [
    "train = gluon.data.vision.FashionMNIST(train=True)\n",
    "test = gluon.data.vision.FashionMNIST(train=False)\n",
    "X_train_0 = np.stack([x[0] for x in train if x[1] == 0]).astype(float)\n",
    "X_train_1 = np.stack([x[0] for x in train if x[1] == 1]).astype(float)"
   ]
  },
  {
   "cell_type": "code",
   "execution_count": 4,
   "metadata": {
    "ExecuteTime": {
     "end_time": "2019-12-09T12:14:55.696419Z",
     "start_time": "2019-12-09T12:14:55.675399Z"
    }
   },
   "outputs": [
    {
     "data": {
      "text/plain": [
       "((6000, 28, 28, 1), (6000, 28, 28, 1))"
      ]
     },
     "execution_count": 4,
     "metadata": {},
     "output_type": "execute_result"
    }
   ],
   "source": [
    "X_train_0.shape, X_train_1.shape"
   ]
  },
  {
   "cell_type": "code",
   "execution_count": null,
   "metadata": {},
   "outputs": [],
   "source": []
  }
 ],
 "metadata": {
  "kernelspec": {
   "display_name": "Python 3",
   "language": "python",
   "name": "python3"
  },
  "language_info": {
   "codemirror_mode": {
    "name": "ipython",
    "version": 3
   },
   "file_extension": ".py",
   "mimetype": "text/x-python",
   "name": "python",
   "nbconvert_exporter": "python",
   "pygments_lexer": "ipython3",
   "version": "3.7.5"
  },
  "toc": {
   "base_numbering": 1,
   "nav_menu": {},
   "number_sections": true,
   "sideBar": true,
   "skip_h1_title": false,
   "title_cell": "Table of Contents",
   "title_sidebar": "Contents",
   "toc_cell": false,
   "toc_position": {
    "height": "900px",
    "left": "82px",
    "top": "204px",
    "width": "384px"
   },
   "toc_section_display": true,
   "toc_window_display": true
  },
  "varInspector": {
   "cols": {
    "lenName": 16,
    "lenType": 16,
    "lenVar": 40
   },
   "kernels_config": {
    "python": {
     "delete_cmd_postfix": "",
     "delete_cmd_prefix": "del ",
     "library": "var_list.py",
     "varRefreshCmd": "print(var_dic_list())"
    },
    "r": {
     "delete_cmd_postfix": ") ",
     "delete_cmd_prefix": "rm(",
     "library": "var_list.r",
     "varRefreshCmd": "cat(var_dic_list()) "
    }
   },
   "types_to_exclude": [
    "module",
    "function",
    "builtin_function_or_method",
    "instance",
    "_Feature"
   ],
   "window_display": false
  }
 },
 "nbformat": 4,
 "nbformat_minor": 2
}
