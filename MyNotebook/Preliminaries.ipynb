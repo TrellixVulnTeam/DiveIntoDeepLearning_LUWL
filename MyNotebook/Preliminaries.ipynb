{
 "cells": [
  {
   "cell_type": "markdown",
   "metadata": {},
   "source": [
    "# Calculus\n",
    "\n",
    "Let ${\\mathbf{x}}$ be an $n$-dimensional vector, the following rules are often used when differentiating functions:\n",
    "\n",
    "- For all $\\mathbf{A} \\in \\mathbb{R}^{m \\times n}$, $\\triangledown_{x}\\mathbf{Ax} = \\mathbf{A}^{\\top}$\n",
    "- For all $\\mathbf{A} \\in \\mathbb{R}^{n \\times m}$, $\\triangledown_{x}\\mathbf{x^{\\top}A} = \\mathbf{A}$\n",
    "- For all $\\mathbf{A} \\in \\mathbb{R}^{n \\times n}$, $\\triangledown_{x}\\mathbf{x^{\\top}Ax} = (\\mathbf{A} + \\mathbf{A}^{\\top})\\mathbf{x}$\n",
    "- $\\triangledown_{x}||\\mathbf{x}||^2 = \\triangledown_{x}\\mathbf{x}^{\\top}\\mathbf{x} = 2\\mathbf{x}$"
   ]
  },
  {
   "cell_type": "markdown",
   "metadata": {},
   "source": [
    "# Automatic Differentiation\n",
    "\n",
    "## Backward for Non-Scalar Variables\n",
    "\n",
    "从技术上而言，当 $y$ 不是一个标量而是一个向量(m-dimensional) 对向量 $x$(n-dimensional)求导，求导结果是一个称之为 Jacobian($m \\times n$ matrix)的矩阵。\n",
    "\n",
    "> 在向量求导中，这属于向量对向量求导。\n",
    "\n",
    "在深度学习（机器学习）中，通常对向量求导的作用是最小化损失函数，其核心是计算在一个批次中每个样本的偏导数之和，因此在 MXNet 框架中，对于向量对向量求导会按照向量求和的方式求导，也就是将向量对向量求导变为标量对向量求导。\n",
    "\n",
    "下面的例子就说明了 MXNet 的这种处理方法。"
   ]
  },
  {
   "cell_type": "code",
   "execution_count": 1,
   "metadata": {
    "ExecuteTime": {
     "end_time": "2019-12-03T06:39:07.396177Z",
     "start_time": "2019-12-03T06:39:07.392177Z"
    }
   },
   "outputs": [],
   "source": [
    "from mxnet import autograd, np, npx"
   ]
  },
  {
   "cell_type": "code",
   "execution_count": 2,
   "metadata": {
    "ExecuteTime": {
     "end_time": "2019-12-03T06:39:35.136977Z",
     "start_time": "2019-12-03T06:39:35.127977Z"
    }
   },
   "outputs": [],
   "source": [
    "npx.set_np()"
   ]
  },
  {
   "cell_type": "code",
   "execution_count": 3,
   "metadata": {
    "ExecuteTime": {
     "end_time": "2019-12-03T06:40:46.288177Z",
     "start_time": "2019-12-03T06:40:46.216177Z"
    }
   },
   "outputs": [
    {
     "data": {
      "text/plain": [
       "array([0., 1., 2., 3.])"
      ]
     },
     "execution_count": 3,
     "metadata": {},
     "output_type": "execute_result"
    }
   ],
   "source": [
    "# vector x\n",
    "x = np.arange(4)\n",
    "x"
   ]
  },
  {
   "cell_type": "code",
   "execution_count": 7,
   "metadata": {
    "ExecuteTime": {
     "end_time": "2019-12-03T06:43:46.095977Z",
     "start_time": "2019-12-03T06:43:46.079977Z"
    }
   },
   "outputs": [
    {
     "data": {
      "text/plain": [
       "(array([0., 1., 4., 9.]), array([0., 2., 4., 6.]))"
      ]
     },
     "execution_count": 7,
     "metadata": {},
     "output_type": "execute_result"
    }
   ],
   "source": [
    "# 向量对向量求导\n",
    "x.attach_grad()\n",
    "with autograd.record():\n",
    "    y = x * x\n",
    "y.backward()\n",
    "y, x.grad"
   ]
  },
  {
   "cell_type": "code",
   "execution_count": 15,
   "metadata": {
    "ExecuteTime": {
     "end_time": "2019-12-03T09:03:35.938591Z",
     "start_time": "2019-12-03T09:03:35.918591Z"
    }
   },
   "outputs": [
    {
     "data": {
      "text/plain": [
       "(array(14.), array([0., 2., 4., 6.]), array([1., 0., 1., 0.]))"
      ]
     },
     "execution_count": 15,
     "metadata": {},
     "output_type": "execute_result"
    }
   ],
   "source": [
    "# 标量对向量求导\n",
    "u = x.copy()\n",
    "u.attach_grad()\n",
    "with autograd.record():\n",
    "    v = (u * u).sum()  # v is a scalar\n",
    "v.backward()\n",
    "v, u.grad, x.grad == u.grad"
   ]
  },
  {
   "cell_type": "markdown",
   "metadata": {},
   "source": [
    "## Detaching Computation\n",
    "\n"
   ]
  },
  {
   "cell_type": "code",
   "execution_count": 16,
   "metadata": {
    "ExecuteTime": {
     "end_time": "2019-12-03T09:05:01.121792Z",
     "start_time": "2019-12-03T09:05:01.108792Z"
    }
   },
   "outputs": [
    {
     "data": {
      "text/plain": [
       "(array([0., 1., 4., 9.]), array([0., 1., 4., 9.]))"
      ]
     },
     "execution_count": 16,
     "metadata": {},
     "output_type": "execute_result"
    }
   ],
   "source": [
    "with autograd.record():\n",
    "    y = x * x\n",
    "    u = y.detach()\n",
    "    z = u * x\n",
    "z.backward()\n",
    "x.grad, u"
   ]
  },
  {
   "cell_type": "code",
   "execution_count": 17,
   "metadata": {
    "ExecuteTime": {
     "end_time": "2019-12-03T09:05:34.451392Z",
     "start_time": "2019-12-03T09:05:34.437392Z"
    }
   },
   "outputs": [
    {
     "data": {
      "text/plain": [
       "(array([ 0.,  3., 12., 27.]), array([0., 1., 4., 9.]))"
      ]
     },
     "execution_count": 17,
     "metadata": {},
     "output_type": "execute_result"
    }
   ],
   "source": [
    "with autograd.record():\n",
    "    y = x * x\n",
    "    z = y * x\n",
    "z.backward()\n",
    "x.grad, u"
   ]
  }
 ],
 "metadata": {
  "kernelspec": {
   "display_name": "Python 3",
   "language": "python",
   "name": "python3"
  },
  "language_info": {
   "codemirror_mode": {
    "name": "ipython",
    "version": 3
   },
   "file_extension": ".py",
   "mimetype": "text/x-python",
   "name": "python",
   "nbconvert_exporter": "python",
   "pygments_lexer": "ipython3",
   "version": "3.7.5"
  },
  "toc": {
   "base_numbering": 1,
   "nav_menu": {},
   "number_sections": true,
   "sideBar": true,
   "skip_h1_title": true,
   "title_cell": "Table of Contents",
   "title_sidebar": "Contents",
   "toc_cell": false,
   "toc_position": {},
   "toc_section_display": true,
   "toc_window_display": false
  },
  "varInspector": {
   "cols": {
    "lenName": 16,
    "lenType": 16,
    "lenVar": 40
   },
   "kernels_config": {
    "python": {
     "delete_cmd_postfix": "",
     "delete_cmd_prefix": "del ",
     "library": "var_list.py",
     "varRefreshCmd": "print(var_dic_list())"
    },
    "r": {
     "delete_cmd_postfix": ") ",
     "delete_cmd_prefix": "rm(",
     "library": "var_list.r",
     "varRefreshCmd": "cat(var_dic_list()) "
    }
   },
   "types_to_exclude": [
    "module",
    "function",
    "builtin_function_or_method",
    "instance",
    "_Feature"
   ],
   "window_display": false
  }
 },
 "nbformat": 4,
 "nbformat_minor": 2
}
